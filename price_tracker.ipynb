{
  "nbformat": 4,
  "nbformat_minor": 0,
  "metadata": {
    "colab": {
      "provenance": [],
      "authorship_tag": "ABX9TyNUr4TTtyUxOUb/21BLhNX7",
      "include_colab_link": true
    },
    "kernelspec": {
      "name": "python3",
      "display_name": "Python 3"
    },
    "language_info": {
      "name": "python"
    }
  },
  "cells": [
    {
      "cell_type": "markdown",
      "metadata": {
        "id": "view-in-github",
        "colab_type": "text"
      },
      "source": [
        "<a href=\"https://colab.research.google.com/github/KelvinLam05/price_tracker/blob/main/price_tracker.ipynb\" target=\"_parent\"><img src=\"https://colab.research.google.com/assets/colab-badge.svg\" alt=\"Open In Colab\"/></a>"
      ]
    },
    {
      "cell_type": "markdown",
      "source": [
        "**Goal of the project**"
      ],
      "metadata": {
        "id": "D8TVvuAkxRnY"
      }
    },
    {
      "cell_type": "markdown",
      "source": [
        "In ecommerce, it’s very common for retailers to need to monitor the prices of their competitors. Prices make a big difference to sales and if they’re set too high then customers will go elsewhere, so monitoring them is crucial for ensuring the sales keeping coming in.\n",
        "\n",
        "In this project, we’ll create a price tracker with Webscraper.io. We’ll scrape an ecommerce store, extract the product prices (Black Friday deals), and store them in a CSV file. "
      ],
      "metadata": {
        "id": "qa4B6WH0gYSe"
      }
    },
    {
      "cell_type": "markdown",
      "source": [
        "**Scrape the site**"
      ],
      "metadata": {
        "id": "-ZYHjpIjii4F"
      }
    },
    {
      "cell_type": "markdown",
      "source": [
        "Webscraper.io is a chrome browser extension built for data extraction from webpages. Using this extension we can create a plan (sitemap) how a website should be traversed and what should be extracted."
      ],
      "metadata": {
        "id": "DYhAf4nDl5q6"
      }
    },
    {
      "cell_type": "markdown",
      "source": [
        "`{\"_id\":\"black_friday_deals\",\"startUrl\":[\"https://www.belsimpel.nl/telefoon?lang=en&np=1&shipping_country=GB&offer%5B0%5D=Black+Friday&pagina=[1-8]\",\"https://www.belsimpel.nl/tablet?lang=en&offer%5B0%5D=Black+Friday&pagina=[1-2]\",\"https://www.belsimpel.nl/smartwatches?lang=en&offer%5B0%5D=Black+Friday&pagina=[1-3]\",\"https://www.belsimpel.nl/oordopjes?Lang=en&offer%5B0%5D=Black+Friday&pagina=[1-4]\",\"https://www.belsimpel.nl/koptelefoons?lang=en&offer%5B0%5D=Black+Friday&pagina=1\"],\"selectors\":[{\"id\":\"product_wrappers\",\"parentSelectors\":[\"_root\"],\"type\":\"SelectorElement\",\"selector\":\"section.SegmentItemContainerstyle__StyledSegmentItemContainer-sc-10buj0t-0\",\"multiple\":true},{\"id\":\"name\",\"parentSelectors\":[\"product_wrappers\"],\"type\":\"SelectorText\",\"selector\":\"h3\",\"multiple\":false,\"regex\":\"\"},{\"id\":\"original_price\",\"parentSelectors\":[\"product_wrappers\"],\"type\":\"SelectorText\",\"selector\":\"span.dgWanj\",\"multiple\":false,\"regex\":\"\"},{\"id\":\"sale_price\",\"parentSelectors\":[\"product_wrappers\"],\"type\":\"SelectorText\",\"selector\":\"span.gxgwxb\",\"multiple\":false,\"regex\":\"\"},{\"id\":\"reviews\",\"parentSelectors\":[\"product_wrappers\"],\"type\":\"SelectorText\",\"selector\":\"div.ReviewSummarystyle__NumberOfReviews-sc-1jkl55v-3\",\"multiple\":false,\"regex\":\"\"},{\"id\":\"rating\",\"parentSelectors\":[\"product_wrappers\"],\"type\":\"SelectorText\",\"selector\":\"div.ReviewSummarystyle__Label-sc-1jkl55v-5\",\"multiple\":false,\"regex\":\"\"}]}`"
      ],
      "metadata": {
        "id": "eu-WLrazySY4"
      }
    },
    {
      "cell_type": "markdown",
      "source": [
        "**Load the data**"
      ],
      "metadata": {
        "id": "MVkp_aroyAPW"
      }
    },
    {
      "cell_type": "code",
      "source": [
        "# Importing library\n",
        "import pandas as pd"
      ],
      "metadata": {
        "id": "HG_2lRyjKAyf"
      },
      "execution_count": 48,
      "outputs": []
    },
    {
      "cell_type": "code",
      "source": [
        "# Load dataset\n",
        "df = pd.read_csv('/content/black_friday_deals.csv')"
      ],
      "metadata": {
        "id": "JVJN3rffEmvT"
      },
      "execution_count": 49,
      "outputs": []
    },
    {
      "cell_type": "code",
      "source": [
        "# Only include the relevant columns\n",
        "df = df[['name', 'original_price', 'sale_price', 'reviews', 'rating']]"
      ],
      "metadata": {
        "id": "0PmzRMxq77WL"
      },
      "execution_count": 50,
      "outputs": []
    },
    {
      "cell_type": "code",
      "source": [
        "# Examine the data\n",
        "df.head()"
      ],
      "metadata": {
        "colab": {
          "base_uri": "https://localhost:8080/",
          "height": 204
        },
        "id": "Tub-5B8iEuUR",
        "outputId": "8d34d7a0-6eea-4bae-dad8-8b3653ee9aa6"
      },
      "execution_count": 51,
      "outputs": [
        {
          "output_type": "execute_result",
          "data": {
            "text/plain": [
              "                           name original_price sale_price  \\\n",
              "0         Sony WH-1000XM4 Black        €247.00    €227.00   \n",
              "1    Beats Solo3 Wireless Black        €209.95    €187.95   \n",
              "2  Beats Studio3 Wireless White        €273.95    €261.95   \n",
              "3        Sony WH-1000XM4 Silver            NaN    €266.00   \n",
              "4        Beats Studio Buds Blue        €189.95    €141.95   \n",
              "\n",
              "               reviews         rating  \n",
              "0  18 verified reviews  Excellent 9.3  \n",
              "1  10 verified reviews  Excellent 9.1  \n",
              "2   5 verified reviews      Great 8.6  \n",
              "3   3 verified reviews   Fantastic 10  \n",
              "4   2 verified reviews  Excellent 9.3  "
            ],
            "text/html": [
              "\n",
              "  <div id=\"df-9be450f9-6233-4bd5-b9f4-6282befd78b2\">\n",
              "    <div class=\"colab-df-container\">\n",
              "      <div>\n",
              "<style scoped>\n",
              "    .dataframe tbody tr th:only-of-type {\n",
              "        vertical-align: middle;\n",
              "    }\n",
              "\n",
              "    .dataframe tbody tr th {\n",
              "        vertical-align: top;\n",
              "    }\n",
              "\n",
              "    .dataframe thead th {\n",
              "        text-align: right;\n",
              "    }\n",
              "</style>\n",
              "<table border=\"1\" class=\"dataframe\">\n",
              "  <thead>\n",
              "    <tr style=\"text-align: right;\">\n",
              "      <th></th>\n",
              "      <th>name</th>\n",
              "      <th>original_price</th>\n",
              "      <th>sale_price</th>\n",
              "      <th>reviews</th>\n",
              "      <th>rating</th>\n",
              "    </tr>\n",
              "  </thead>\n",
              "  <tbody>\n",
              "    <tr>\n",
              "      <th>0</th>\n",
              "      <td>Sony WH-1000XM4 Black</td>\n",
              "      <td>€247.00</td>\n",
              "      <td>€227.00</td>\n",
              "      <td>18 verified reviews</td>\n",
              "      <td>Excellent 9.3</td>\n",
              "    </tr>\n",
              "    <tr>\n",
              "      <th>1</th>\n",
              "      <td>Beats Solo3 Wireless Black</td>\n",
              "      <td>€209.95</td>\n",
              "      <td>€187.95</td>\n",
              "      <td>10 verified reviews</td>\n",
              "      <td>Excellent 9.1</td>\n",
              "    </tr>\n",
              "    <tr>\n",
              "      <th>2</th>\n",
              "      <td>Beats Studio3 Wireless White</td>\n",
              "      <td>€273.95</td>\n",
              "      <td>€261.95</td>\n",
              "      <td>5 verified reviews</td>\n",
              "      <td>Great 8.6</td>\n",
              "    </tr>\n",
              "    <tr>\n",
              "      <th>3</th>\n",
              "      <td>Sony WH-1000XM4 Silver</td>\n",
              "      <td>NaN</td>\n",
              "      <td>€266.00</td>\n",
              "      <td>3 verified reviews</td>\n",
              "      <td>Fantastic 10</td>\n",
              "    </tr>\n",
              "    <tr>\n",
              "      <th>4</th>\n",
              "      <td>Beats Studio Buds Blue</td>\n",
              "      <td>€189.95</td>\n",
              "      <td>€141.95</td>\n",
              "      <td>2 verified reviews</td>\n",
              "      <td>Excellent 9.3</td>\n",
              "    </tr>\n",
              "  </tbody>\n",
              "</table>\n",
              "</div>\n",
              "      <button class=\"colab-df-convert\" onclick=\"convertToInteractive('df-9be450f9-6233-4bd5-b9f4-6282befd78b2')\"\n",
              "              title=\"Convert this dataframe to an interactive table.\"\n",
              "              style=\"display:none;\">\n",
              "        \n",
              "  <svg xmlns=\"http://www.w3.org/2000/svg\" height=\"24px\"viewBox=\"0 0 24 24\"\n",
              "       width=\"24px\">\n",
              "    <path d=\"M0 0h24v24H0V0z\" fill=\"none\"/>\n",
              "    <path d=\"M18.56 5.44l.94 2.06.94-2.06 2.06-.94-2.06-.94-.94-2.06-.94 2.06-2.06.94zm-11 1L8.5 8.5l.94-2.06 2.06-.94-2.06-.94L8.5 2.5l-.94 2.06-2.06.94zm10 10l.94 2.06.94-2.06 2.06-.94-2.06-.94-.94-2.06-.94 2.06-2.06.94z\"/><path d=\"M17.41 7.96l-1.37-1.37c-.4-.4-.92-.59-1.43-.59-.52 0-1.04.2-1.43.59L10.3 9.45l-7.72 7.72c-.78.78-.78 2.05 0 2.83L4 21.41c.39.39.9.59 1.41.59.51 0 1.02-.2 1.41-.59l7.78-7.78 2.81-2.81c.8-.78.8-2.07 0-2.86zM5.41 20L4 18.59l7.72-7.72 1.47 1.35L5.41 20z\"/>\n",
              "  </svg>\n",
              "      </button>\n",
              "      \n",
              "  <style>\n",
              "    .colab-df-container {\n",
              "      display:flex;\n",
              "      flex-wrap:wrap;\n",
              "      gap: 12px;\n",
              "    }\n",
              "\n",
              "    .colab-df-convert {\n",
              "      background-color: #E8F0FE;\n",
              "      border: none;\n",
              "      border-radius: 50%;\n",
              "      cursor: pointer;\n",
              "      display: none;\n",
              "      fill: #1967D2;\n",
              "      height: 32px;\n",
              "      padding: 0 0 0 0;\n",
              "      width: 32px;\n",
              "    }\n",
              "\n",
              "    .colab-df-convert:hover {\n",
              "      background-color: #E2EBFA;\n",
              "      box-shadow: 0px 1px 2px rgba(60, 64, 67, 0.3), 0px 1px 3px 1px rgba(60, 64, 67, 0.15);\n",
              "      fill: #174EA6;\n",
              "    }\n",
              "\n",
              "    [theme=dark] .colab-df-convert {\n",
              "      background-color: #3B4455;\n",
              "      fill: #D2E3FC;\n",
              "    }\n",
              "\n",
              "    [theme=dark] .colab-df-convert:hover {\n",
              "      background-color: #434B5C;\n",
              "      box-shadow: 0px 1px 3px 1px rgba(0, 0, 0, 0.15);\n",
              "      filter: drop-shadow(0px 1px 2px rgba(0, 0, 0, 0.3));\n",
              "      fill: #FFFFFF;\n",
              "    }\n",
              "  </style>\n",
              "\n",
              "      <script>\n",
              "        const buttonEl =\n",
              "          document.querySelector('#df-9be450f9-6233-4bd5-b9f4-6282befd78b2 button.colab-df-convert');\n",
              "        buttonEl.style.display =\n",
              "          google.colab.kernel.accessAllowed ? 'block' : 'none';\n",
              "\n",
              "        async function convertToInteractive(key) {\n",
              "          const element = document.querySelector('#df-9be450f9-6233-4bd5-b9f4-6282befd78b2');\n",
              "          const dataTable =\n",
              "            await google.colab.kernel.invokeFunction('convertToInteractive',\n",
              "                                                     [key], {});\n",
              "          if (!dataTable) return;\n",
              "\n",
              "          const docLinkHtml = 'Like what you see? Visit the ' +\n",
              "            '<a target=\"_blank\" href=https://colab.research.google.com/notebooks/data_table.ipynb>data table notebook</a>'\n",
              "            + ' to learn more about interactive tables.';\n",
              "          element.innerHTML = '';\n",
              "          dataTable['output_type'] = 'display_data';\n",
              "          await google.colab.output.renderOutput(dataTable, element);\n",
              "          const docLink = document.createElement('div');\n",
              "          docLink.innerHTML = docLinkHtml;\n",
              "          element.appendChild(docLink);\n",
              "        }\n",
              "      </script>\n",
              "    </div>\n",
              "  </div>\n",
              "  "
            ]
          },
          "metadata": {},
          "execution_count": 51
        }
      ]
    },
    {
      "cell_type": "code",
      "source": [
        "# Overview of all variables, their datatypes\n",
        "df.info()"
      ],
      "metadata": {
        "colab": {
          "base_uri": "https://localhost:8080/"
        },
        "id": "6qeWkTG3EvuV",
        "outputId": "7f6b2459-944d-452a-b244-9b134b014b5e"
      },
      "execution_count": 52,
      "outputs": [
        {
          "output_type": "stream",
          "name": "stdout",
          "text": [
            "<class 'pandas.core.frame.DataFrame'>\n",
            "RangeIndex: 238 entries, 0 to 237\n",
            "Data columns (total 5 columns):\n",
            " #   Column          Non-Null Count  Dtype \n",
            "---  ------          --------------  ----- \n",
            " 0   name            238 non-null    object\n",
            " 1   original_price  228 non-null    object\n",
            " 2   sale_price      238 non-null    object\n",
            " 3   reviews         238 non-null    object\n",
            " 4   rating          209 non-null    object\n",
            "dtypes: object(5)\n",
            "memory usage: 9.4+ KB\n"
          ]
        }
      ]
    },
    {
      "cell_type": "markdown",
      "source": [
        "**Data preprocessing**"
      ],
      "metadata": {
        "id": "raPFQRm54hWe"
      }
    },
    {
      "cell_type": "code",
      "source": [
        "# Remove the ‘,’ and ‘€’\n",
        "df['original_price'] = df['original_price'].str.replace(',', '').str.replace('€', '')\n",
        "df['sale_price'] = df['sale_price'].str.replace(',', '').str.replace('€', '')"
      ],
      "metadata": {
        "id": "e5is92ZsBpoR"
      },
      "execution_count": 53,
      "outputs": []
    },
    {
      "cell_type": "code",
      "source": [
        "# Convert columns to numeric\n",
        "df['original_price'] = pd.to_numeric(df['original_price'])\n",
        "df['sale_price'] = pd.to_numeric(df['sale_price'])"
      ],
      "metadata": {
        "id": "Ovwylhk3K0ou"
      },
      "execution_count": 54,
      "outputs": []
    },
    {
      "cell_type": "code",
      "source": [
        "# Calculate percent off\n",
        "df['percent_off'] = round(100 - ((df['sale_price'] / df['original_price']) * 100), 1)"
      ],
      "metadata": {
        "id": "iegxubB7JnC1"
      },
      "execution_count": 55,
      "outputs": []
    },
    {
      "cell_type": "code",
      "source": [
        "# Remove non-numeric characters from columns \n",
        "df['reviews'] = df['reviews'].str.extract('(\\d+)')\n",
        "df['rating'] = df['rating'].str.extract('([-+]?\\d*\\.?\\d+)')"
      ],
      "metadata": {
        "id": "hPLYpglNBCm4"
      },
      "execution_count": 56,
      "outputs": []
    },
    {
      "cell_type": "code",
      "source": [
        "# Convert rating to numeric\n",
        "df['rating'] = pd.to_numeric(df['rating']) "
      ],
      "metadata": {
        "id": "1eJBFyN5MTYv"
      },
      "execution_count": 57,
      "outputs": []
    },
    {
      "cell_type": "code",
      "source": [
        "# Reorder the columns\n",
        "df = df[['name', 'original_price', 'sale_price', 'percent_off', 'reviews', 'rating']]"
      ],
      "metadata": {
        "id": "WabOi4SMZb2W"
      },
      "execution_count": 58,
      "outputs": []
    },
    {
      "cell_type": "code",
      "source": [
        "df.head()"
      ],
      "metadata": {
        "colab": {
          "base_uri": "https://localhost:8080/",
          "height": 204
        },
        "id": "vOOIDNFX9iXg",
        "outputId": "89787c1f-4c97-4c82-a6d2-e9cb9c617a62"
      },
      "execution_count": 59,
      "outputs": [
        {
          "output_type": "execute_result",
          "data": {
            "text/plain": [
              "                           name  original_price  sale_price  percent_off  \\\n",
              "0         Sony WH-1000XM4 Black          247.00      227.00          8.1   \n",
              "1    Beats Solo3 Wireless Black          209.95      187.95         10.5   \n",
              "2  Beats Studio3 Wireless White          273.95      261.95          4.4   \n",
              "3        Sony WH-1000XM4 Silver             NaN      266.00          NaN   \n",
              "4        Beats Studio Buds Blue          189.95      141.95         25.3   \n",
              "\n",
              "  reviews  rating  \n",
              "0      18     9.3  \n",
              "1      10     9.1  \n",
              "2       5     8.6  \n",
              "3       3    10.0  \n",
              "4       2     9.3  "
            ],
            "text/html": [
              "\n",
              "  <div id=\"df-1df0c9c1-444b-426a-bf5a-5ab2b488ad9f\">\n",
              "    <div class=\"colab-df-container\">\n",
              "      <div>\n",
              "<style scoped>\n",
              "    .dataframe tbody tr th:only-of-type {\n",
              "        vertical-align: middle;\n",
              "    }\n",
              "\n",
              "    .dataframe tbody tr th {\n",
              "        vertical-align: top;\n",
              "    }\n",
              "\n",
              "    .dataframe thead th {\n",
              "        text-align: right;\n",
              "    }\n",
              "</style>\n",
              "<table border=\"1\" class=\"dataframe\">\n",
              "  <thead>\n",
              "    <tr style=\"text-align: right;\">\n",
              "      <th></th>\n",
              "      <th>name</th>\n",
              "      <th>original_price</th>\n",
              "      <th>sale_price</th>\n",
              "      <th>percent_off</th>\n",
              "      <th>reviews</th>\n",
              "      <th>rating</th>\n",
              "    </tr>\n",
              "  </thead>\n",
              "  <tbody>\n",
              "    <tr>\n",
              "      <th>0</th>\n",
              "      <td>Sony WH-1000XM4 Black</td>\n",
              "      <td>247.00</td>\n",
              "      <td>227.00</td>\n",
              "      <td>8.1</td>\n",
              "      <td>18</td>\n",
              "      <td>9.3</td>\n",
              "    </tr>\n",
              "    <tr>\n",
              "      <th>1</th>\n",
              "      <td>Beats Solo3 Wireless Black</td>\n",
              "      <td>209.95</td>\n",
              "      <td>187.95</td>\n",
              "      <td>10.5</td>\n",
              "      <td>10</td>\n",
              "      <td>9.1</td>\n",
              "    </tr>\n",
              "    <tr>\n",
              "      <th>2</th>\n",
              "      <td>Beats Studio3 Wireless White</td>\n",
              "      <td>273.95</td>\n",
              "      <td>261.95</td>\n",
              "      <td>4.4</td>\n",
              "      <td>5</td>\n",
              "      <td>8.6</td>\n",
              "    </tr>\n",
              "    <tr>\n",
              "      <th>3</th>\n",
              "      <td>Sony WH-1000XM4 Silver</td>\n",
              "      <td>NaN</td>\n",
              "      <td>266.00</td>\n",
              "      <td>NaN</td>\n",
              "      <td>3</td>\n",
              "      <td>10.0</td>\n",
              "    </tr>\n",
              "    <tr>\n",
              "      <th>4</th>\n",
              "      <td>Beats Studio Buds Blue</td>\n",
              "      <td>189.95</td>\n",
              "      <td>141.95</td>\n",
              "      <td>25.3</td>\n",
              "      <td>2</td>\n",
              "      <td>9.3</td>\n",
              "    </tr>\n",
              "  </tbody>\n",
              "</table>\n",
              "</div>\n",
              "      <button class=\"colab-df-convert\" onclick=\"convertToInteractive('df-1df0c9c1-444b-426a-bf5a-5ab2b488ad9f')\"\n",
              "              title=\"Convert this dataframe to an interactive table.\"\n",
              "              style=\"display:none;\">\n",
              "        \n",
              "  <svg xmlns=\"http://www.w3.org/2000/svg\" height=\"24px\"viewBox=\"0 0 24 24\"\n",
              "       width=\"24px\">\n",
              "    <path d=\"M0 0h24v24H0V0z\" fill=\"none\"/>\n",
              "    <path d=\"M18.56 5.44l.94 2.06.94-2.06 2.06-.94-2.06-.94-.94-2.06-.94 2.06-2.06.94zm-11 1L8.5 8.5l.94-2.06 2.06-.94-2.06-.94L8.5 2.5l-.94 2.06-2.06.94zm10 10l.94 2.06.94-2.06 2.06-.94-2.06-.94-.94-2.06-.94 2.06-2.06.94z\"/><path d=\"M17.41 7.96l-1.37-1.37c-.4-.4-.92-.59-1.43-.59-.52 0-1.04.2-1.43.59L10.3 9.45l-7.72 7.72c-.78.78-.78 2.05 0 2.83L4 21.41c.39.39.9.59 1.41.59.51 0 1.02-.2 1.41-.59l7.78-7.78 2.81-2.81c.8-.78.8-2.07 0-2.86zM5.41 20L4 18.59l7.72-7.72 1.47 1.35L5.41 20z\"/>\n",
              "  </svg>\n",
              "      </button>\n",
              "      \n",
              "  <style>\n",
              "    .colab-df-container {\n",
              "      display:flex;\n",
              "      flex-wrap:wrap;\n",
              "      gap: 12px;\n",
              "    }\n",
              "\n",
              "    .colab-df-convert {\n",
              "      background-color: #E8F0FE;\n",
              "      border: none;\n",
              "      border-radius: 50%;\n",
              "      cursor: pointer;\n",
              "      display: none;\n",
              "      fill: #1967D2;\n",
              "      height: 32px;\n",
              "      padding: 0 0 0 0;\n",
              "      width: 32px;\n",
              "    }\n",
              "\n",
              "    .colab-df-convert:hover {\n",
              "      background-color: #E2EBFA;\n",
              "      box-shadow: 0px 1px 2px rgba(60, 64, 67, 0.3), 0px 1px 3px 1px rgba(60, 64, 67, 0.15);\n",
              "      fill: #174EA6;\n",
              "    }\n",
              "\n",
              "    [theme=dark] .colab-df-convert {\n",
              "      background-color: #3B4455;\n",
              "      fill: #D2E3FC;\n",
              "    }\n",
              "\n",
              "    [theme=dark] .colab-df-convert:hover {\n",
              "      background-color: #434B5C;\n",
              "      box-shadow: 0px 1px 3px 1px rgba(0, 0, 0, 0.15);\n",
              "      filter: drop-shadow(0px 1px 2px rgba(0, 0, 0, 0.3));\n",
              "      fill: #FFFFFF;\n",
              "    }\n",
              "  </style>\n",
              "\n",
              "      <script>\n",
              "        const buttonEl =\n",
              "          document.querySelector('#df-1df0c9c1-444b-426a-bf5a-5ab2b488ad9f button.colab-df-convert');\n",
              "        buttonEl.style.display =\n",
              "          google.colab.kernel.accessAllowed ? 'block' : 'none';\n",
              "\n",
              "        async function convertToInteractive(key) {\n",
              "          const element = document.querySelector('#df-1df0c9c1-444b-426a-bf5a-5ab2b488ad9f');\n",
              "          const dataTable =\n",
              "            await google.colab.kernel.invokeFunction('convertToInteractive',\n",
              "                                                     [key], {});\n",
              "          if (!dataTable) return;\n",
              "\n",
              "          const docLinkHtml = 'Like what you see? Visit the ' +\n",
              "            '<a target=\"_blank\" href=https://colab.research.google.com/notebooks/data_table.ipynb>data table notebook</a>'\n",
              "            + ' to learn more about interactive tables.';\n",
              "          element.innerHTML = '';\n",
              "          dataTable['output_type'] = 'display_data';\n",
              "          await google.colab.output.renderOutput(dataTable, element);\n",
              "          const docLink = document.createElement('div');\n",
              "          docLink.innerHTML = docLinkHtml;\n",
              "          element.appendChild(docLink);\n",
              "        }\n",
              "      </script>\n",
              "    </div>\n",
              "  </div>\n",
              "  "
            ]
          },
          "metadata": {},
          "execution_count": 59
        }
      ]
    },
    {
      "cell_type": "code",
      "source": [
        "# Export Pandas DataFrame to CSV\n",
        "df.to_csv('/content/price_tracker.csv', index = None, header = True)"
      ],
      "metadata": {
        "id": "qcu2zRqB0HdL"
      },
      "execution_count": 60,
      "outputs": []
    }
  ]
}